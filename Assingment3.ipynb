{
 "cells": [
  {
   "cell_type": "code",
   "execution_count": 3,
   "id": "ce16831e",
   "metadata": {},
   "outputs": [
    {
     "name": "stdout",
     "output_type": "stream",
     "text": [
      "Enter your name: Tejashri\n",
      "Tejashri\n"
     ]
    }
   ],
   "source": [
    "#WAP to check type of data accepted using input() function\n",
    "x=input('Enter your name: ')\n",
    "print(x)"
   ]
  },
  {
   "cell_type": "code",
   "execution_count": 4,
   "id": "4f10ff3b",
   "metadata": {},
   "outputs": [
    {
     "name": "stdout",
     "output_type": "stream",
     "text": [
      "Enter your name:Tejashri\n",
      "hello!Tejashri\n"
     ]
    }
   ],
   "source": [
    "#WAP to accept name from user and display Hello Username\n",
    "\n",
    "x = input('Enter your name:')\n",
    "print('hello!' +x)"
   ]
  },
  {
   "cell_type": "code",
   "execution_count": 7,
   "id": "7d570836",
   "metadata": {},
   "outputs": [
    {
     "name": "stdout",
     "output_type": "stream",
     "text": [
      "Surname: Pardeshi\n",
      "Firstname: Tejashri\n",
      "Middlename: Subhash\n",
      "Pardeshi Tejashri Subhash\n"
     ]
    }
   ],
   "source": [
    "#Accept first name middle name and surname from user (Use 3 input() ).Display the user input as Surname Firstname Middlename\n",
    "x = input('Surname: ')\n",
    "y= input('Firstname: ')\n",
    "z= input('Middlename: ')\n",
    "print(x,y,z)"
   ]
  },
  {
   "cell_type": "code",
   "execution_count": 9,
   "id": "3718807e",
   "metadata": {},
   "outputs": [
    {
     "name": "stdout",
     "output_type": "stream",
     "text": [
      "Name:Tejashri\n",
      "Age:25\n",
      "Address:Junnar\n"
     ]
    }
   ],
   "source": [
    "#Accept first name middle name and surname from user (Use 3 input() ).Display the user input as\n",
    "#Surname Firstname Middlename\n",
    "\n",
    "x=input('Name:')\n",
    "y=input('Age:')\n",
    "z=input('Address:')\n",
    "#print(x,y,z)"
   ]
  },
  {
   "cell_type": "code",
   "execution_count": 16,
   "id": "8346435c",
   "metadata": {},
   "outputs": [
    {
     "name": "stdout",
     "output_type": "stream",
     "text": [
      "RollNo:10\n",
      "Name:Tejashri\n",
      "Percentage:78\n",
      "RollNo \tName \t\tPercentage\n",
      "10\tTejashri\t78\n"
     ]
    }
   ],
   "source": [
    "#Accept Student Details-Rollno,Name,percent and display as (Use 2 print())\n",
    "#\tRollno\t\tName\t\tPercentage\n",
    "#\tUserRoll\tUsername\tUserPercent                                        \n",
    "\n",
    "x=input('RollNo:')\n",
    "y=input('Name:')\n",
    "z=input('Percentage:')\n",
    "print(\"RollNo \\tName \\t\\tPercentage\")\n",
    "print(x,y,z,sep=\"\\t\")"
   ]
  }
 ],
 "metadata": {
  "kernelspec": {
   "display_name": "Python 3",
   "language": "python",
   "name": "python3"
  },
  "language_info": {
   "codemirror_mode": {
    "name": "ipython",
    "version": 3
   },
   "file_extension": ".py",
   "mimetype": "text/x-python",
   "name": "python",
   "nbconvert_exporter": "python",
   "pygments_lexer": "ipython3",
   "version": "3.8.8"
  }
 },
 "nbformat": 4,
 "nbformat_minor": 5
}
