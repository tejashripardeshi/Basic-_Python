{
 "cells": [
  {
   "cell_type": "code",
   "execution_count": 1,
   "id": "8f04be0c",
   "metadata": {},
   "outputs": [
    {
     "name": "stdout",
     "output_type": "stream",
     "text": [
      "Addition:  15\n",
      "Substraction:  5\n",
      "Multiplication:  50\n",
      "Division:  2.0\n",
      "Module:  0\n",
      "Power of a number: 100000\n",
      "Floor Division of a number: 2\n"
     ]
    }
   ],
   "source": [
    "#WAP to demonstrate use of arithmetic operators (numeric as well as str object)\n",
    "a = 10\n",
    "b = 5\n",
    "c = a + b\n",
    "print (\"Addition: \", c)\n",
    "\n",
    "c = a - b\n",
    "print (\"Substraction: \", c) \n",
    "\n",
    "c = a * b\n",
    "print (\"Multiplication: \", c) \n",
    "\n",
    "c = a / b\n",
    "print (\"Division: \", c) \n",
    "\n",
    "c = a % b\n",
    "print (\"Module: \", c)\n",
    "\n",
    "c = a**b \n",
    "print (\"Power of a number:\", c)\n",
    "\n",
    "c = a//b \n",
    "print (\"Floor Division of a number:\", c)"
   ]
  },
  {
   "cell_type": "code",
   "execution_count": 3,
   "id": "3fac6a6e",
   "metadata": {},
   "outputs": [
    {
     "name": "stdout",
     "output_type": "stream",
     "text": [
      "Equal to  31\n",
      "Add And:  52\n",
      "Sub And:  31\n",
      "Mul And:  651\n",
      "Div And:  31.0\n",
      "Add And:  2\n",
      "Exponent And:  2097152\n",
      "Floor Division:  99864\n"
     ]
    }
   ],
   "source": [
    "#WAP to demonstrate use of assignment operators (numeric as well as str object)\n",
    "a = 21\n",
    "b = 10\n",
    "\n",
    "c = a + b\n",
    "print (\"Equal to \", c)\n",
    "\n",
    "c += a\n",
    "print (\"Add And: \", c) \n",
    "\n",
    "c -= a\n",
    "print (\"Sub And: \", c) \n",
    "\n",
    "c *= a\n",
    "print (\"Mul And: \", c) \n",
    "\n",
    "c /= a\n",
    "print (\"Div And: \", c) \n",
    "\n",
    "c = 2\n",
    "c %= a\n",
    "print (\"Add And: \", c) \n",
    "\n",
    "c **= a\n",
    "print (\"Exponent And: \", c) \n",
    "\n",
    "c //= a\n",
    "print (\"Floor Division: \", c) \n"
   ]
  },
  {
   "cell_type": "code",
   "execution_count": 11,
   "id": "c34b8025",
   "metadata": {},
   "outputs": [
    {
     "name": "stdout",
     "output_type": "stream",
     "text": [
      "str\n",
      "uytr\n",
      "a is not equal to b\n",
      "a is not equal to b\n",
      "a is less than b\n",
      "a is not greater than b\n",
      "a is either less than or equal to  b\n",
      "b is either greater than  or equal to b\n"
     ]
    }
   ],
   "source": [
    "#WAP to demonstrate use of comparison operators (numeric as well as str object)\n",
    "a = str(input(\"\"))\n",
    "b = str(input(\"\"))\n",
    "#a = 5\n",
    "#b = 2\n",
    "if ( a == b ):\n",
    "   print (\"a is equal to b\")\n",
    "else:\n",
    "   print (\"a is not equal to b\")\n",
    "if ( a != b ):\n",
    "   print (\"a is not equal to b\")\n",
    "else:\n",
    "   print (\"a is equal to b\")\n",
    "\n",
    "if ( a < b ):\n",
    "   print (\"a is less than b\") \n",
    "else:\n",
    "   print (\"a is not less than b\")\n",
    "\n",
    "if ( a > b ):\n",
    "   print (\"a is greater than b\")\n",
    "else:\n",
    "   print (\"a is not greater than b\")\n",
    "\n",
    "if ( a <= b ):\n",
    "   print (\"a is either less than or equal to  b\")\n",
    "else:\n",
    "   print (\"a is neither less than nor equal to  b\")\n",
    "\n",
    "if ( b >= a ):\n",
    "   print (\"b is either greater than  or equal to b\")\n",
    "else:\n",
    "   print (\"b is neither greater than  nor equal to b\")"
   ]
  },
  {
   "cell_type": "code",
   "execution_count": 17,
   "id": "78483123",
   "metadata": {},
   "outputs": [
    {
     "name": "stdout",
     "output_type": "stream",
     "text": [
      " False\n",
      " True\n",
      " False\n"
     ]
    }
   ],
   "source": [
    "#WAP to demonstrate use of logical operators (numeric as well as str object)                                 \n",
    "#a = 5\n",
    "#b = 2\n",
    "a = True\n",
    "b = False\n",
    "print(\"x and y is\",a and b)\n",
    "print(\"x or y is\",a or b)\n",
    "print(\"not x is\",not a)"
   ]
  }
 ],
 "metadata": {
  "kernelspec": {
   "display_name": "Python 3",
   "language": "python",
   "name": "python3"
  },
  "language_info": {
   "codemirror_mode": {
    "name": "ipython",
    "version": 3
   },
   "file_extension": ".py",
   "mimetype": "text/x-python",
   "name": "python",
   "nbconvert_exporter": "python",
   "pygments_lexer": "ipython3",
   "version": "3.8.8"
  }
 },
 "nbformat": 4,
 "nbformat_minor": 5
}
