{
 "cells": [
  {
   "cell_type": "code",
   "execution_count": 2,
   "id": "9c51704c",
   "metadata": {},
   "outputs": [
    {
     "name": "stdout",
     "output_type": "stream",
     "text": [
      "Lamborghini\n",
      "Mercedes-Benz\n",
      "Land Rover\n"
     ]
    }
   ],
   "source": [
    "#Assign three different values to three different variables and print them.\n",
    "A,B,C = \"Lamborghini\",\"Mercedes-Benz\",\"Land Rover\"\n",
    "print(A)\n",
    "print(B)\n",
    "print(C)"
   ]
  },
  {
   "cell_type": "code",
   "execution_count": 24,
   "id": "ec1ebb0e",
   "metadata": {},
   "outputs": [
    {
     "name": "stdout",
     "output_type": "stream",
     "text": [
      "Marks\n",
      "20\n",
      "19\n"
     ]
    }
   ],
   "source": [
    "#Write a program to demonstrate single and multiple assignment of values to a variables\n",
    "a,b,c= \"Marks\",20,19\n",
    "print (a)\n",
    "print (b)\n",
    "print (c)\n",
    "#or\n",
    "#name = \"ram\"\n",
    "#percentage = 79\n",
    "#print (name)\n",
    "#print (percentage)"
   ]
  },
  {
   "cell_type": "code",
   "execution_count": 10,
   "id": "3975e215",
   "metadata": {},
   "outputs": [
    {
     "name": "stdout",
     "output_type": "stream",
     "text": [
      "The value of x after swapping: \n",
      "3\n",
      "The value of y after swapping: \n",
      "2\n"
     ]
    }
   ],
   "source": [
    "#Write a program to swap two variables.\n",
    "x = 2\n",
    "y = 3 \n",
    "# swap the values\n",
    "temp = x\n",
    "x = y\n",
    "y = temp\n",
    "print('The value of x after swapping: ')\n",
    "print(x)\n",
    "print('The value of y after swapping: ')\n",
    "print(y)"
   ]
  },
  {
   "cell_type": "code",
   "execution_count": 18,
   "id": "de39074d",
   "metadata": {},
   "outputs": [
    {
     "name": "stdout",
     "output_type": "stream",
     "text": [
      "lamborghini\n",
      "12600000\n",
      "From UK\n"
     ]
    }
   ],
   "source": [
    "#Write a program to demonstrate that a single variable can store different type of values at different instance of time\n",
    "mycar = 'lamborghini\\n12600000\\nFrom UK'\n",
    "x = mycar\n",
    "print(x)\n",
    "#or\n",
    "#car=\"BMW\",12000000,\"From India\"\n",
    "#x = car\n",
    "#print(x)"
   ]
  },
  {
   "cell_type": "code",
   "execution_count": 32,
   "id": "97f80965",
   "metadata": {},
   "outputs": [
    {
     "name": "stdout",
     "output_type": "stream",
     "text": [
      "HelloWorld\n",
      "Hello World\n"
     ]
    }
   ],
   "source": [
    "#Write a program to concatenate two strings.\n",
    "#using + operator\n",
    "#using % operator\n",
    "#using join() method\n",
    "first = \"Hello\"\n",
    "second = \"World\"\n",
    "result = first+second\n",
    "res = first+\" \"+second\n",
    "print(result)\n",
    "print(res)"
   ]
  },
  {
   "cell_type": "code",
   "execution_count": 49,
   "id": "b397f679",
   "metadata": {},
   "outputs": [
    {
     "name": "stdout",
     "output_type": "stream",
     "text": [
      "Enter principal value is:10\n",
      "Enter time period value is:2\n",
      "Enter rate of intrest is:4\n",
      "simple intrest is: 0.8\n"
     ]
    }
   ],
   "source": [
    "#Write a program to calculate simple interest.Accept values from user.(si=pnr/100)\n",
    "P =float(input('Enter principal value is:'))\n",
    "N =float(input('Enter time period value is:'))\n",
    "R =float(input('Enter rate of intrest is:'))\n",
    "SI = (P * N * R)/100\n",
    "print('simple intrest is:',SI)"
   ]
  }
 ],
 "metadata": {
  "kernelspec": {
   "display_name": "Python 3",
   "language": "python",
   "name": "python3"
  },
  "language_info": {
   "codemirror_mode": {
    "name": "ipython",
    "version": 3
   },
   "file_extension": ".py",
   "mimetype": "text/x-python",
   "name": "python",
   "nbconvert_exporter": "python",
   "pygments_lexer": "ipython3",
   "version": "3.8.8"
  }
 },
 "nbformat": 4,
 "nbformat_minor": 5
}
