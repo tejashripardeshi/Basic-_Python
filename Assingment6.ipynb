{
 "cells": [
  {
   "cell_type": "code",
   "execution_count": 3,
   "id": "03f86efc",
   "metadata": {},
   "outputs": [
    {
     "name": "stdout",
     "output_type": "stream",
     "text": [
      "Enter your choise:7\n",
      "number is odd\n"
     ]
    }
   ],
   "source": [
    "#WAP to determine input number is even or odd.\n",
    "x = int(input(\"Enter your choise:\"))\n",
    "if(x % 2) == 0:\n",
    "    print(\"number is even\")\n",
    "else:\n",
    "    print(\"number is odd\")"
   ]
  },
  {
   "cell_type": "code",
   "execution_count": 6,
   "id": "0a8c4b2b",
   "metadata": {},
   "outputs": [
    {
     "name": "stdout",
     "output_type": "stream",
     "text": [
      "Enter a year: 1900\n",
      "is not a leap year 1900\n"
     ]
    }
   ],
   "source": [
    "#Find out if a given year is a leap year or not.\n",
    "year= int(input(\"Enter a year: \"))\n",
    "if(year % 400 == 0)and(year % 100 == 0):\n",
    "    print(\"is a leap year\", year)\n",
    "else:\n",
    "    print(\"is not a leap year\",year)"
   ]
  },
  {
   "cell_type": "code",
   "execution_count": 7,
   "id": "ce7f36b3",
   "metadata": {},
   "outputs": [
    {
     "name": "stdout",
     "output_type": "stream",
     "text": [
      "the first angle of a triangle: 75\n",
      "the second angle of a triangle: 98\n",
      "the third angle of a triangle: 48\n",
      "\n",
      "This is an invalid triangle\n"
     ]
    }
   ],
   "source": [
    "#Write a program to check if a triangle is valid or not.(Input-3 angles of triangle).\n",
    "a = int(input('the first angle of a triangle: '))\n",
    "b = int(input('the second angle of a triangle: '))\n",
    "c = int(input('the third angle of a triangle: '))\n",
    "\n",
    "total = a + b + c\n",
    "\n",
    "if total == 180:\n",
    "    print(\"\\nThis is a valid triangle\")\n",
    "else:\n",
    "    print(\"\\nThis is an invalid triangle\")"
   ]
  },
  {
   "cell_type": "code",
   "execution_count": 8,
   "id": "c59f8c8a",
   "metadata": {},
   "outputs": [
    {
     "name": "stdout",
     "output_type": "stream",
     "text": [
      "Enter the Product Price: 2000\n",
      "Enter the Amount: 1500\n",
      "total loss amount =  500\n"
     ]
    }
   ],
   "source": [
    "#WAP to determine if the seller has made profit or loss.Display amount of profit/loss.(Input: Cost price and selling price).\n",
    "cost = int(input(\"Enter the Product Price: \"))\n",
    "amount = int(input(\"Enter the Amount: \"))\n",
    " \n",
    "if(cost > amount):\n",
    "    result = cost - amount\n",
    "    print(\"total loss amount = \",result)\n",
    "elif(amount > cost):\n",
    "    result = amount - cost\n",
    "    print(\"total profit = \",result)\n",
    "else:\n",
    "    print(\"No profit no loss!!!\")"
   ]
  },
  {
   "cell_type": "code",
   "execution_count": 9,
   "id": "52fe8f1f",
   "metadata": {},
   "outputs": [
    {
     "name": "stdout",
     "output_type": "stream",
     "text": [
      "Enter a number: 153\n",
      "153 is an Armstrong number\n"
     ]
    }
   ],
   "source": [
    "#. WAP to determine if the given number is the Armstrong number or not (153 is the Armstrong number as 1³+5³+3³=153).\n",
    "num = int(input(\"Enter a number: \"))\n",
    "sum = 0\n",
    "temp = num\n",
    "while temp > 0:\n",
    "   digit = temp % 10\n",
    "   sum += digit ** 3\n",
    "   temp //= 10\n",
    "\n",
    "if num == sum:\n",
    "   print(num,\"is an Armstrong number\")\n",
    "else:\n",
    "   print(num,\"is not an Armstrong number\")"
   ]
  },
  {
   "cell_type": "code",
   "execution_count": 12,
   "id": "139c7f4c",
   "metadata": {},
   "outputs": [
    {
     "name": "stdout",
     "output_type": "stream",
     "text": [
      "Enter your choise : -8\n",
      "number is a negative number -8\n"
     ]
    }
   ],
   "source": [
    "#Determine if the input number is positive or negative.\n",
    "num = int(input(\"Enter your choise : \"))\n",
    "\n",
    "if(num > 0):\n",
    "    print(\"number is a positive number\",num)\n",
    "elif(num < 0):\n",
    "    print(\"number is a negative number\",num)\n",
    "else:\n",
    "    print(\"You have entered zero\")"
   ]
  },
  {
   "cell_type": "code",
   "execution_count": 13,
   "id": "b8195742",
   "metadata": {},
   "outputs": [
    {
     "name": "stdout",
     "output_type": "stream",
     "text": [
      "enter age:16\n",
      "not eligible for votting\n"
     ]
    }
   ],
   "source": [
    "#WAP to check if a candidate is eligible for voting or not.\n",
    "age = int(input(\"enter age:\"))\n",
    "if(age >= 18):\n",
    "    print(\"eligible for votting\")\n",
    "else:\n",
    "    print(\"not eligible for votting\")"
   ]
  },
  {
   "cell_type": "code",
   "execution_count": 17,
   "id": "a72d53a6",
   "metadata": {},
   "outputs": [
    {
     "name": "stdout",
     "output_type": "stream",
     "text": [
      "10\n",
      "12\n",
      "14\n",
      "the largest number is 14\n"
     ]
    }
   ],
   "source": [
    "#WAP to find the largest among 3 numbers.\n",
    "a =int(input(\"\"))\n",
    "b =int(input(\"\"))\n",
    "c =int(input(\"\"))\n",
    "if a > b and a > c:\n",
    "    print(\"the largest number is\",a)\n",
    "elif b > c:\n",
    "    print(\"the largest number is\",b)\n",
    "else:\n",
    "    print(\"the largest number is\", c)"
   ]
  },
  {
   "cell_type": "code",
   "execution_count": 20,
   "id": "2c5d5904",
   "metadata": {},
   "outputs": [
    {
     "name": "stdout",
     "output_type": "stream",
     "text": [
      "ENter the character:y\n",
      "is a constant y\n"
     ]
    }
   ],
   "source": [
    "#WAP to check if the alphabet is a vowel or consonant.\n",
    "ch = input(\"ENter the character:\")\n",
    "if(ch =='a' or ch =='e' or ch =='i' or ch =='o' or ch =='u' or ch =='A' or ch =='E' or ch =='I' or ch =='O' or ch =='U'):\n",
    "    print(\"is a vowel\",ch)\n",
    "else:\n",
    "    print(\"is a constant\",ch)"
   ]
  }
 ],
 "metadata": {
  "kernelspec": {
   "display_name": "Python 3",
   "language": "python",
   "name": "python3"
  },
  "language_info": {
   "codemirror_mode": {
    "name": "ipython",
    "version": 3
   },
   "file_extension": ".py",
   "mimetype": "text/x-python",
   "name": "python",
   "nbconvert_exporter": "python",
   "pygments_lexer": "ipython3",
   "version": "3.8.8"
  }
 },
 "nbformat": 4,
 "nbformat_minor": 5
}
