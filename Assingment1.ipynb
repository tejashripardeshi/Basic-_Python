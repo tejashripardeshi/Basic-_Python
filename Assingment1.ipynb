{
 "cells": [
  {
   "cell_type": "code",
   "execution_count": 1,
   "id": "98d21dba",
   "metadata": {},
   "outputs": [
    {
     "name": "stdout",
     "output_type": "stream",
     "text": [
      "Welcome to the world of python programming\n"
     ]
    }
   ],
   "source": [
    "#WAP to print “Welcome to the world of Python Programming”\n",
    "print(\"Welcome to the world of python programming\")"
   ]
  },
  {
   "cell_type": "code",
   "execution_count": 7,
   "id": "a76fc757",
   "metadata": {},
   "outputs": [
    {
     "name": "stdout",
     "output_type": "stream",
     "text": [
      "\t\"Hi!\"\n",
      "\n",
      " \t\"How are you?\"\n"
     ]
    }
   ],
   "source": [
    "#WAP to print“Hi!”and “How are you?”\n",
    "text='\\t\\\"Hi!\\\"\\n\\n \\t\\\"How are you?\\\"'\n",
    "print(text)"
   ]
  },
  {
   "cell_type": "code",
   "execution_count": 14,
   "id": "4ad4f45f",
   "metadata": {},
   "outputs": [
    {
     "name": "stdout",
     "output_type": "stream",
     "text": [
      "                  Table1\n",
      "         Col1\tCol2\tCol3\t\n",
      "Row1\n",
      "Row2\n"
     ]
    }
   ],
   "source": [
    "#WAP to print Table1 Col1\tCol2\tCol3 Row1 Row2\n",
    "print('%24s'%\"Table1\")\n",
    "print('%24s'%\"Col1\\tCol2\\tCol3\\t\")\n",
    "print(\"Row1\\nRow2\")"
   ]
  },
  {
   "cell_type": "code",
   "execution_count": 18,
   "id": "02270ca9",
   "metadata": {},
   "outputs": [
    {
     "name": "stdout",
     "output_type": "stream",
     "text": [
      "Person A:\"Why are you learning python?\"\n",
      "Person B:\"it is need of time\"\n",
      "Person A:\"Thats true\"\n"
     ]
    }
   ],
   "source": [
    "text='Person A:\\\"Why are you learning python?\\\"\\nPerson B:\\\"it is need of time\\\"\\nPerson A:\\\"Thats true\\\"'\n",
    "print(text)"
   ]
  },
  {
   "cell_type": "code",
   "execution_count": 21,
   "id": "25456dd1",
   "metadata": {},
   "outputs": [
    {
     "name": "stdout",
     "output_type": "stream",
     "text": [
      "all\n",
      "Good\n",
      "hello\tworld\n",
      "It's a python code\n",
      "I am \"Tejashri\" hello\n"
     ]
    }
   ],
   "source": [
    "# Using \\n newline\n",
    "text='all\\nGood'\n",
    "print(text)\n",
    "# Using \\t space/tab\n",
    "text='hello\\tworld'\n",
    "print(text)\n",
    "#Using \\' single quote\n",
    "text='It\\'s a python code'\n",
    "print(text)\n",
    "#using \\\" double quote\n",
    "text='I am \\\"Tejashri\\\" hello'\n",
    "print(text)"
   ]
  }
 ],
 "metadata": {
  "kernelspec": {
   "display_name": "Python 3",
   "language": "python",
   "name": "python3"
  },
  "language_info": {
   "codemirror_mode": {
    "name": "ipython",
    "version": 3
   },
   "file_extension": ".py",
   "mimetype": "text/x-python",
   "name": "python",
   "nbconvert_exporter": "python",
   "pygments_lexer": "ipython3",
   "version": "3.8.8"
  }
 },
 "nbformat": 4,
 "nbformat_minor": 5
}
