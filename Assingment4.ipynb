{
 "cells": [
  {
   "cell_type": "code",
   "execution_count": 2,
   "id": "b0a0f869",
   "metadata": {},
   "outputs": [
    {
     "name": "stdout",
     "output_type": "stream",
     "text": [
      "64\n"
     ]
    }
   ],
   "source": [
    "#WAP to calculate x raised to the power n (xn). Accept the value of x and n from the user.\n",
    "def power(a, b):\n",
    "  \n",
    "    if (b == 0): \n",
    "        return 1\n",
    "    elif (int(b % 2) == 0):\n",
    "        return (power(a, int(b / 2)) *\n",
    "               power(a, int(b / 2)))\n",
    "    else:\n",
    "        return (a * power(a, int(b / 2)) *\n",
    "                   power(a, int(b / 2)))\n",
    "a = 4; b = 3\n",
    "print(power(a, b))"
   ]
  },
  {
   "cell_type": "code",
   "execution_count": 10,
   "id": "3da1787a",
   "metadata": {},
   "outputs": [
    {
     "name": "stdout",
     "output_type": "stream",
     "text": [
      "3\n",
      "5\n",
      "14\n",
      "The average of number:  7.333333333333333\n"
     ]
    }
   ],
   "source": [
    "#WAP to calculate average of three numbers.Accept numbers  from user\n",
    "num1 = int(input(\"\"))\n",
    "num2 = int(input(\"\"))\n",
    "num3 = int(input(\"\"))\n",
    "\n",
    "avg = (num1 + num2 + num3)/3\n",
    "print('The average of number: ',avg)"
   ]
  },
  {
   "cell_type": "code",
   "execution_count": 11,
   "id": "bfec2c20",
   "metadata": {},
   "outputs": [
    {
     "name": "stdout",
     "output_type": "stream",
     "text": [
      "2.0943951023931953\n"
     ]
    }
   ],
   "source": [
    "#Write a Python program to convert degree to radian.\n",
    "import math\n",
    "print(math.radians(120))"
   ]
  },
  {
   "cell_type": "code",
   "execution_count": 14,
   "id": "b5eac0fd",
   "metadata": {},
   "outputs": [
    {
     "name": "stdout",
     "output_type": "stream",
     "text": [
      "Value in Degree: 85.94366926962348\n"
     ]
    }
   ],
   "source": [
    "#Write a Python program to convert radian to degree.\n",
    "import math\n",
    "def degree(x):\n",
    "    pi=math.pi\n",
    "    degree=(x*180)/pi\n",
    "    return degree\n",
    "print(\"Value in Degree:\",degree(1.5))"
   ]
  },
  {
   "cell_type": "code",
   "execution_count": 16,
   "id": "d6380a38",
   "metadata": {},
   "outputs": [
    {
     "name": "stdout",
     "output_type": "stream",
     "text": [
      "Height of trapezoid: 4\n",
      "Base one value: 6\n",
      "Base two value: 4\n",
      "Area is: 20.0\n"
     ]
    }
   ],
   "source": [
    "#. Write a Python program to calculate the area of a trapezoid.\n",
    "base = 6\n",
    "bas = 2\n",
    "heig= float(input(\"Height of trapezoid: \"))\n",
    "base = float(input('Base one value: '))\n",
    "bas = float(input('Base two value: '))\n",
    "area = ((base + bas) / 2) * heig\n",
    "print(\"Area is:\", area)"
   ]
  },
  {
   "cell_type": "code",
   "execution_count": 17,
   "id": "e4add7b1",
   "metadata": {},
   "outputs": [
    {
     "name": "stdout",
     "output_type": "stream",
     "text": [
      "20\n",
      "40\n",
      "Area of the parallelogram = 800\n"
     ]
    }
   ],
   "source": [
    "#Write a Python program to calculate the area of a parallelogram.\n",
    "base = int(input(\"\"))\n",
    "height =int(input(\"\")) \n",
    "area_parallelogram = base * height\n",
    "print(\"Area of the parallelogram = \"+str(area_parallelogram))"
   ]
  },
  {
   "cell_type": "code",
   "execution_count": 18,
   "id": "8fb93795",
   "metadata": {},
   "outputs": [
    {
     "name": "stdout",
     "output_type": "stream",
     "text": [
      "4\n",
      "2\n",
      "Volume is:  50.285714285714285\n",
      "Surface Area is:  75.42857142857143\n"
     ]
    }
   ],
   "source": [
    "#Write a Python program to calculate surface area and volume of a cylinder.\n",
    "pi=22/7\n",
    "height = int(input(\"\"))\n",
    "radian = int(input(\"\"))\n",
    "volume = pi * radian * radian * height\n",
    "surarea = ((2*pi*radian) * height) + ((pi*radian**2)*2)\n",
    "print(\"Volume is: \", volume)\n",
    "print(\"Surface Area is: \", surarea)"
   ]
  },
  {
   "cell_type": "code",
   "execution_count": 20,
   "id": "c7fff828",
   "metadata": {},
   "outputs": [
    {
     "name": "stdout",
     "output_type": "stream",
     "text": [
      "2\n",
      "The Surface area of a Sphere =  50.24\n",
      "The Volume of a Sphere =  33.49333333333333\n"
     ]
    }
   ],
   "source": [
    "#Write a Python program to calculate surface area and volume of a sphere.\n",
    "PI = 3.14\n",
    "radius = int(input(\"\"))\n",
    "suarea =  4 * PI * radius * radius\n",
    "Volume = (4 / 3) * PI * radius * radius * radius\n",
    "\n",
    "print(\"The Surface area of a Sphere = \" ,suarea)\n",
    "print(\"The Volume of a Sphere = \" ,Volume)"
   ]
  }
 ],
 "metadata": {
  "kernelspec": {
   "display_name": "Python 3",
   "language": "python",
   "name": "python3"
  },
  "language_info": {
   "codemirror_mode": {
    "name": "ipython",
    "version": 3
   },
   "file_extension": ".py",
   "mimetype": "text/x-python",
   "name": "python",
   "nbconvert_exporter": "python",
   "pygments_lexer": "ipython3",
   "version": "3.8.8"
  }
 },
 "nbformat": 4,
 "nbformat_minor": 5
}
